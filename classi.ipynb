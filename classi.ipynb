{
 "cells": [
  {
   "attachments": {},
   "cell_type": "markdown",
   "metadata": {},
   "source": [
    "# le classi \n",
    "le classi (create con class) sono degli aggregati e sono definiti dalla prima lettera maiuscola. la class è composta da attributi:metodi. Le classi possono non avere metodi (ossia funzioni) ma devono avere attributi (__init__). I metodi sono delle funzioni della classe.    "
   ]
  },
  {
   "cell_type": "code",
   "execution_count": 17,
   "metadata": {},
   "outputs": [
    {
     "ename": "SyntaxError",
     "evalue": "invalid syntax (254300241.py, line 6)",
     "output_type": "error",
     "traceback": [
      "\u001b[1;36m  Cell \u001b[1;32mIn[17], line 6\u001b[1;36m\u001b[0m\n\u001b[1;33m    def doppio_nome (self.nome):\u001b[0m\n\u001b[1;37m                         ^\u001b[0m\n\u001b[1;31mSyntaxError\u001b[0m\u001b[1;31m:\u001b[0m invalid syntax\n"
     ]
    }
   ],
   "source": [
    "class Persona:\n",
    "    def __init__(self,a,b): #attributi\n",
    "        self.nome = a\n",
    "        self.eta = b\n",
    "\n",
    "def doppio_nome (self.nome):\n",
    "    nomedoppio= self.nome*2\n",
    "    return nomedoppio \n",
    "\n",
    "daniele= Persona('Daniele',36) #assegnazione di class a una variabile con parametri\n",
    "print(daniele.eta) #stampa di attributo eta\n",
    "daniele.eta\n"
   ]
  },
  {
   "cell_type": "code",
   "execution_count": 16,
   "metadata": {},
   "outputs": [
    {
     "data": {
      "text/plain": [
       "<function __main__.doppio_nome(self)>"
      ]
     },
     "execution_count": 16,
     "metadata": {},
     "output_type": "execute_result"
    }
   ],
   "source": [
    "doppio_nome"
   ]
  }
 ],
 "metadata": {
  "kernelspec": {
   "display_name": "Python 3",
   "language": "python",
   "name": "python3"
  },
  "language_info": {
   "codemirror_mode": {
    "name": "ipython",
    "version": 3
   },
   "file_extension": ".py",
   "mimetype": "text/x-python",
   "name": "python",
   "nbconvert_exporter": "python",
   "pygments_lexer": "ipython3",
   "version": "3.10.10"
  },
  "orig_nbformat": 4
 },
 "nbformat": 4,
 "nbformat_minor": 2
}
